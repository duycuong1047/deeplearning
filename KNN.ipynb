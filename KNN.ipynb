{
  "nbformat": 4,
  "nbformat_minor": 0,
  "metadata": {
    "colab": {
      "name": "KNN.ipynb",
      "provenance": [],
      "authorship_tag": "ABX9TyPFfUSjCLZRrT3qqkAShRVD",
      "include_colab_link": true
    },
    "kernelspec": {
      "name": "python3",
      "display_name": "Python 3"
    }
  },
  "cells": [
    {
      "cell_type": "markdown",
      "metadata": {
        "id": "view-in-github",
        "colab_type": "text"
      },
      "source": [
        "<a href=\"https://colab.research.google.com/github/duycuong1047/deeplearning/blob/master/KNN.ipynb\" target=\"_parent\"><img src=\"https://colab.research.google.com/assets/colab-badge.svg\" alt=\"Open In Colab\"/></a>"
      ]
    },
    {
      "cell_type": "code",
      "metadata": {
        "id": "DJrE-vjGTAdu",
        "colab_type": "code",
        "colab": {}
      },
      "source": [
        "from __future__ import print_function\n",
        "import numpy as np\n",
        "from sklearn import neighbors, datasets\n",
        "from sklearn.model_selection import train_test_split\n",
        "from sklearn.metrics import accuracy_score\n",
        "\n",
        "iris = datasets.load_iris()\n",
        "iris_X = iris.data\n",
        "iris_y = iris.target\n"
      ],
      "execution_count": 0,
      "outputs": []
    },
    {
      "cell_type": "code",
      "metadata": {
        "id": "A5UaMUN6GBaV",
        "colab_type": "code",
        "outputId": "c4201537-901e-40ce-eb84-7407a7ace420",
        "colab": {
          "base_uri": "https://localhost:8080/",
          "height": 51
        }
      },
      "source": [
        "print('Labels:', np.unique(iris_y))\n",
        "\n",
        "np.random.seed(7)\n",
        "X_train, X_test, y_train, y_test = train_test_split(\n",
        "       iris_X, iris_y, test_size=130)\n",
        "print('Training size:', X_train.shape[0], ',  test size:', X_test.shape[0])"
      ],
      "execution_count": 3,
      "outputs": [
        {
          "output_type": "stream",
          "text": [
            "Labels: [0 1 2]\n",
            "Training size: 20 ,  test size: 130\n"
          ],
          "name": "stdout"
        }
      ]
    },
    {
      "cell_type": "code",
      "metadata": {
        "id": "_7EMFsl4Ek8K",
        "colab_type": "code",
        "colab": {
          "base_uri": "https://localhost:8080/",
          "height": 34
        },
        "outputId": "c0c9a1c1-923b-4e6c-9094-df392f58aeb1"
      },
      "source": [
        "model = neighbors.KNeighborsClassifier(n_neighbors = 1, p = 2)\n",
        "model.fit(X_train, y_train)\n",
        "y_pred = model.predict(X_test)\n",
        "print(\"Accuracy of 1NN: %.2f %%\" %(100*accuracy_score(y_test, y_pred)))"
      ],
      "execution_count": 5,
      "outputs": [
        {
          "output_type": "stream",
          "text": [
            "Accuracy of 1NN: 92.31 %\n"
          ],
          "name": "stdout"
        }
      ]
    },
    {
      "cell_type": "code",
      "metadata": {
        "id": "FdarRE4yFp6R",
        "colab_type": "code",
        "colab": {
          "base_uri": "https://localhost:8080/",
          "height": 34
        },
        "outputId": "fc34a068-7478-4703-f259-10673616ce4c"
      },
      "source": [
        "model = neighbors.KNeighborsClassifier(n_neighbors=7, p = 2)\n",
        "model.fit(X_train, y_train)\n",
        "y_pred = model.predict(X_test)\n",
        "\n",
        "print(\"Accuracy of 7NN with major voting: %.2f %%\"\\\n",
        "      %(100*accuracy_score(y_test, y_pred)))"
      ],
      "execution_count": 6,
      "outputs": [
        {
          "output_type": "stream",
          "text": [
            "Accuracy of 7NN with major voting: 93.85 %\n"
          ],
          "name": "stdout"
        }
      ]
    },
    {
      "cell_type": "code",
      "metadata": {
        "id": "WvhVrEpXGhOt",
        "colab_type": "code",
        "colab": {
          "base_uri": "https://localhost:8080/",
          "height": 34
        },
        "outputId": "dbf9eed6-0e7c-4f29-c167-6d8ed3842f17"
      },
      "source": [
        "model = neighbors.KNeighborsClassifier(n_neighbors=7, p=2, \\\n",
        "                                       weights = 'distance')\n",
        "model.fit(X_train, y_train)\n",
        "y_pred = model.predict(X_test)\n",
        "\n",
        "print(\"Accuracy of 7NN (1/distance weights): %.2f %%\" %(100*accuracy_score(\n",
        "    y_test, y_pred)))"
      ],
      "execution_count": 7,
      "outputs": [
        {
          "output_type": "stream",
          "text": [
            "Accuracy of 7NN (1/distance weights): 94.62 %\n"
          ],
          "name": "stdout"
        }
      ]
    },
    {
      "cell_type": "code",
      "metadata": {
        "id": "pxKc5_pkHvL2",
        "colab_type": "code",
        "colab": {
          "base_uri": "https://localhost:8080/",
          "height": 34
        },
        "outputId": "4400bca6-7bda-4e77-9430-03e856e6bd5d"
      },
      "source": [
        "def myweight(distances):\n",
        "  sigma2 = .4 #we can change this number\n",
        "  return np.exp(-distances**2/sigma2)\n",
        "\n",
        "model = neighbors.KNeighborsClassifier(\n",
        "    n_neighbors = 7, p = 2, weights = myweight)\n",
        "model.fit(X_train, y_train)\n",
        "y_pred = model.predict(X_test)\n",
        "\n",
        "print(\"Accuracy of 7NN (customized weights): %.2f %%\"\\\n",
        "      %(100*accuracy_score(y_test, y_pred)))"
      ],
      "execution_count": 8,
      "outputs": [
        {
          "output_type": "stream",
          "text": [
            "Accuracy of 7NN (customized weights): 95.38 %\n"
          ],
          "name": "stdout"
        }
      ]
    },
    {
      "cell_type": "code",
      "metadata": {
        "id": "l_pY7XttGXxV",
        "colab_type": "code",
        "colab": {}
      },
      "source": [
        ""
      ],
      "execution_count": 0,
      "outputs": []
    }
  ]
}